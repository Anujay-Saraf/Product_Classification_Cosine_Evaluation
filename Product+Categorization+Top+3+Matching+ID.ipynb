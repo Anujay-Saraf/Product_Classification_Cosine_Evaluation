{
 "cells": [
  {
   "cell_type": "code",
   "execution_count": 4,
   "metadata": {},
   "outputs": [],
   "source": [
    "from azureml import Workspace\n",
    "\n",
    "ws = Workspace()\n",
    "ds = ws.datasets['Cleaned_ml_3000.csv']\n",
    "frame = ds.to_dataframe()"
   ]
  },
  {
   "cell_type": "code",
   "execution_count": 5,
   "metadata": {},
   "outputs": [
    {
     "data": {
      "text/html": [
       "<div>\n",
       "<table border=\"1\" class=\"dataframe\">\n",
       "  <thead>\n",
       "    <tr style=\"text-align: right;\">\n",
       "      <th></th>\n",
       "      <th>Text</th>\n",
       "      <th>G/L</th>\n",
       "    </tr>\n",
       "  </thead>\n",
       "  <tbody>\n",
       "    <tr>\n",
       "      <th>0</th>\n",
       "      <td>Investment Increase</td>\n",
       "      <td>45604</td>\n",
       "    </tr>\n",
       "    <tr>\n",
       "      <th>1</th>\n",
       "      <td>Investment Increase</td>\n",
       "      <td>45604</td>\n",
       "    </tr>\n",
       "    <tr>\n",
       "      <th>2</th>\n",
       "      <td>INV</td>\n",
       "      <td>113100</td>\n",
       "    </tr>\n",
       "    <tr>\n",
       "      <th>3</th>\n",
       "      <td>CHECK</td>\n",
       "      <td>113101</td>\n",
       "    </tr>\n",
       "    <tr>\n",
       "      <th>4</th>\n",
       "      <td>Hilfs Loehne</td>\n",
       "      <td>421000</td>\n",
       "    </tr>\n",
       "    <tr>\n",
       "      <th>5</th>\n",
       "      <td>Salaries Wages</td>\n",
       "      <td>430000</td>\n",
       "    </tr>\n",
       "    <tr>\n",
       "      <th>6</th>\n",
       "      <td>Mehrarbeit Gehlter</td>\n",
       "      <td>431000</td>\n",
       "    </tr>\n",
       "    <tr>\n",
       "      <th>7</th>\n",
       "      <td>Kraftfahrzeug Steuer</td>\n",
       "      <td>464000</td>\n",
       "    </tr>\n",
       "    <tr>\n",
       "      <th>8</th>\n",
       "      <td>Basic rent own use</td>\n",
       "      <td>470000</td>\n",
       "    </tr>\n",
       "    <tr>\n",
       "      <th>9</th>\n",
       "      <td>Own use OC flat rate</td>\n",
       "      <td>470000</td>\n",
       "    </tr>\n",
       "    <tr>\n",
       "      <th>10</th>\n",
       "      <td>Basic rent own use</td>\n",
       "      <td>470000</td>\n",
       "    </tr>\n",
       "    <tr>\n",
       "      <th>11</th>\n",
       "      <td>Own use OC flat rate</td>\n",
       "      <td>470000</td>\n",
       "    </tr>\n",
       "    <tr>\n",
       "      <th>12</th>\n",
       "      <td>Basic rent own use</td>\n",
       "      <td>470000</td>\n",
       "    </tr>\n",
       "    <tr>\n",
       "      <th>13</th>\n",
       "      <td>Own use OC flat rate</td>\n",
       "      <td>470000</td>\n",
       "    </tr>\n",
       "    <tr>\n",
       "      <th>14</th>\n",
       "      <td>Basic rent own use</td>\n",
       "      <td>470000</td>\n",
       "    </tr>\n",
       "    <tr>\n",
       "      <th>15</th>\n",
       "      <td>Own use OC flat rate</td>\n",
       "      <td>470000</td>\n",
       "    </tr>\n",
       "    <tr>\n",
       "      <th>16</th>\n",
       "      <td>Basic rent own use</td>\n",
       "      <td>470000</td>\n",
       "    </tr>\n",
       "    <tr>\n",
       "      <th>17</th>\n",
       "      <td>Own use OC flat rate</td>\n",
       "      <td>470000</td>\n",
       "    </tr>\n",
       "    <tr>\n",
       "      <th>18</th>\n",
       "      <td>Basic rent own use</td>\n",
       "      <td>470000</td>\n",
       "    </tr>\n",
       "    <tr>\n",
       "      <th>19</th>\n",
       "      <td>Own use OC flat rate</td>\n",
       "      <td>470000</td>\n",
       "    </tr>\n",
       "    <tr>\n",
       "      <th>20</th>\n",
       "      <td>Versandkosten</td>\n",
       "      <td>472000</td>\n",
       "    </tr>\n",
       "    <tr>\n",
       "      <th>21</th>\n",
       "      <td>Postkosten ohne Tel</td>\n",
       "      <td>473000</td>\n",
       "    </tr>\n",
       "    <tr>\n",
       "      <th>22</th>\n",
       "      <td>Telefon Grundgebuehr</td>\n",
       "      <td>473110</td>\n",
       "    </tr>\n",
       "    <tr>\n",
       "      <th>23</th>\n",
       "      <td>Telefon Einheiten</td>\n",
       "      <td>473120</td>\n",
       "    </tr>\n",
       "    <tr>\n",
       "      <th>24</th>\n",
       "      <td>Reisek pauschal</td>\n",
       "      <td>474100</td>\n",
       "    </tr>\n",
       "    <tr>\n",
       "      <th>25</th>\n",
       "      <td>Reisekst Unterkunft</td>\n",
       "      <td>474210</td>\n",
       "    </tr>\n",
       "    <tr>\n",
       "      <th>26</th>\n",
       "      <td>Reise vom nach New York</td>\n",
       "      <td>474211</td>\n",
       "    </tr>\n",
       "    <tr>\n",
       "      <th>27</th>\n",
       "      <td>Reisek Verpflegung</td>\n",
       "      <td>474220</td>\n",
       "    </tr>\n",
       "    <tr>\n",
       "      <th>28</th>\n",
       "      <td>Reise vom nach New York</td>\n",
       "      <td>474221</td>\n",
       "    </tr>\n",
       "    <tr>\n",
       "      <th>29</th>\n",
       "      <td>Reise vom nach New York</td>\n",
       "      <td>474231</td>\n",
       "    </tr>\n",
       "    <tr>\n",
       "      <th>30</th>\n",
       "      <td>External Services</td>\n",
       "      <td>476300</td>\n",
       "    </tr>\n",
       "    <tr>\n",
       "      <th>31</th>\n",
       "      <td>Sonst Verwaltungsk</td>\n",
       "      <td>476500</td>\n",
       "    </tr>\n",
       "    <tr>\n",
       "      <th>32</th>\n",
       "      <td>Sonstige Kosten</td>\n",
       "      <td>476900</td>\n",
       "    </tr>\n",
       "    <tr>\n",
       "      <th>33</th>\n",
       "      <td>Nebenk Geldverkehr</td>\n",
       "      <td>479000</td>\n",
       "    </tr>\n",
       "    <tr>\n",
       "      <th>34</th>\n",
       "      <td>AP oper costs transfer</td>\n",
       "      <td>841070</td>\n",
       "    </tr>\n",
       "    <tr>\n",
       "      <th>35</th>\n",
       "      <td>AP oper costs transfer</td>\n",
       "      <td>841070</td>\n",
       "    </tr>\n",
       "    <tr>\n",
       "      <th>36</th>\n",
       "      <td>AP oper costs transfer</td>\n",
       "      <td>841070</td>\n",
       "    </tr>\n",
       "    <tr>\n",
       "      <th>37</th>\n",
       "      <td>AP oper costs transfer</td>\n",
       "      <td>841070</td>\n",
       "    </tr>\n",
       "    <tr>\n",
       "      <th>38</th>\n",
       "      <td>AP oper costs transfer</td>\n",
       "      <td>841070</td>\n",
       "    </tr>\n",
       "    <tr>\n",
       "      <th>39</th>\n",
       "      <td>AP oper costs transfer</td>\n",
       "      <td>841070</td>\n",
       "    </tr>\n",
       "    <tr>\n",
       "      <th>40</th>\n",
       "      <td>Basic rent transfer</td>\n",
       "      <td>888900</td>\n",
       "    </tr>\n",
       "    <tr>\n",
       "      <th>41</th>\n",
       "      <td>OC flat rate trsfr own use</td>\n",
       "      <td>888900</td>\n",
       "    </tr>\n",
       "    <tr>\n",
       "      <th>42</th>\n",
       "      <td>Transfer basic rent own use</td>\n",
       "      <td>888900</td>\n",
       "    </tr>\n",
       "    <tr>\n",
       "      <th>43</th>\n",
       "      <td>Basic rent transfer</td>\n",
       "      <td>888900</td>\n",
       "    </tr>\n",
       "    <tr>\n",
       "      <th>44</th>\n",
       "      <td>OC flat rate trsfr own use</td>\n",
       "      <td>888900</td>\n",
       "    </tr>\n",
       "    <tr>\n",
       "      <th>45</th>\n",
       "      <td>Transfer basic rent own use</td>\n",
       "      <td>888900</td>\n",
       "    </tr>\n",
       "    <tr>\n",
       "      <th>46</th>\n",
       "      <td>Basic rent transfer</td>\n",
       "      <td>888900</td>\n",
       "    </tr>\n",
       "    <tr>\n",
       "      <th>47</th>\n",
       "      <td>Transfer basic rent own use</td>\n",
       "      <td>888900</td>\n",
       "    </tr>\n",
       "    <tr>\n",
       "      <th>48</th>\n",
       "      <td>Transfer basic rent own use</td>\n",
       "      <td>888900</td>\n",
       "    </tr>\n",
       "    <tr>\n",
       "      <th>49</th>\n",
       "      <td>Basic rent transfer</td>\n",
       "      <td>888900</td>\n",
       "    </tr>\n",
       "    <tr>\n",
       "      <th>50</th>\n",
       "      <td>OC flat rate trsfr own use</td>\n",
       "      <td>888900</td>\n",
       "    </tr>\n",
       "    <tr>\n",
       "      <th>51</th>\n",
       "      <td>Transfer basic rent own use</td>\n",
       "      <td>888900</td>\n",
       "    </tr>\n",
       "    <tr>\n",
       "      <th>52</th>\n",
       "      <td>Basic rent transfer</td>\n",
       "      <td>888900</td>\n",
       "    </tr>\n",
       "    <tr>\n",
       "      <th>53</th>\n",
       "      <td>OC flat rate trsfr own use</td>\n",
       "      <td>888900</td>\n",
       "    </tr>\n",
       "    <tr>\n",
       "      <th>54</th>\n",
       "      <td>Transfer basic rent own use</td>\n",
       "      <td>888900</td>\n",
       "    </tr>\n",
       "    <tr>\n",
       "      <th>55</th>\n",
       "      <td>Basic rent transfer</td>\n",
       "      <td>888900</td>\n",
       "    </tr>\n",
       "    <tr>\n",
       "      <th>56</th>\n",
       "      <td>OC flat rate trsfr own use</td>\n",
       "      <td>888900</td>\n",
       "    </tr>\n",
       "    <tr>\n",
       "      <th>57</th>\n",
       "      <td>Transfer basic rent own use</td>\n",
       "      <td>888900</td>\n",
       "    </tr>\n",
       "  </tbody>\n",
       "</table>\n",
       "</div>"
      ],
      "text/plain": [
       "                           Text     G/L\n",
       "0           Investment Increase   45604\n",
       "1           Investment Increase   45604\n",
       "2                           INV  113100\n",
       "3                         CHECK  113101\n",
       "4                  Hilfs Loehne  421000\n",
       "5                Salaries Wages  430000\n",
       "6            Mehrarbeit Gehlter  431000\n",
       "7          Kraftfahrzeug Steuer  464000\n",
       "8            Basic rent own use  470000\n",
       "9          Own use OC flat rate  470000\n",
       "10           Basic rent own use  470000\n",
       "11         Own use OC flat rate  470000\n",
       "12           Basic rent own use  470000\n",
       "13         Own use OC flat rate  470000\n",
       "14           Basic rent own use  470000\n",
       "15         Own use OC flat rate  470000\n",
       "16           Basic rent own use  470000\n",
       "17         Own use OC flat rate  470000\n",
       "18           Basic rent own use  470000\n",
       "19         Own use OC flat rate  470000\n",
       "20                Versandkosten  472000\n",
       "21          Postkosten ohne Tel  473000\n",
       "22         Telefon Grundgebuehr  473110\n",
       "23            Telefon Einheiten  473120\n",
       "24              Reisek pauschal  474100\n",
       "25          Reisekst Unterkunft  474210\n",
       "26      Reise vom nach New York  474211\n",
       "27           Reisek Verpflegung  474220\n",
       "28      Reise vom nach New York  474221\n",
       "29      Reise vom nach New York  474231\n",
       "30            External Services  476300\n",
       "31           Sonst Verwaltungsk  476500\n",
       "32              Sonstige Kosten  476900\n",
       "33           Nebenk Geldverkehr  479000\n",
       "34       AP oper costs transfer  841070\n",
       "35       AP oper costs transfer  841070\n",
       "36       AP oper costs transfer  841070\n",
       "37       AP oper costs transfer  841070\n",
       "38       AP oper costs transfer  841070\n",
       "39       AP oper costs transfer  841070\n",
       "40          Basic rent transfer  888900\n",
       "41   OC flat rate trsfr own use  888900\n",
       "42  Transfer basic rent own use  888900\n",
       "43          Basic rent transfer  888900\n",
       "44   OC flat rate trsfr own use  888900\n",
       "45  Transfer basic rent own use  888900\n",
       "46          Basic rent transfer  888900\n",
       "47  Transfer basic rent own use  888900\n",
       "48  Transfer basic rent own use  888900\n",
       "49          Basic rent transfer  888900\n",
       "50   OC flat rate trsfr own use  888900\n",
       "51  Transfer basic rent own use  888900\n",
       "52          Basic rent transfer  888900\n",
       "53   OC flat rate trsfr own use  888900\n",
       "54  Transfer basic rent own use  888900\n",
       "55          Basic rent transfer  888900\n",
       "56   OC flat rate trsfr own use  888900\n",
       "57  Transfer basic rent own use  888900"
      ]
     },
     "execution_count": 5,
     "metadata": {},
     "output_type": "execute_result"
    }
   ],
   "source": [
    "frame"
   ]
  },
  {
   "cell_type": "code",
   "execution_count": 6,
   "metadata": {},
   "outputs": [
    {
     "data": {
      "text/html": [
       "<div>\n",
       "<table border=\"1\" class=\"dataframe\">\n",
       "  <thead>\n",
       "    <tr style=\"text-align: right;\">\n",
       "      <th></th>\n",
       "      <th>Text</th>\n",
       "      <th>G/L</th>\n",
       "    </tr>\n",
       "  </thead>\n",
       "  <tbody>\n",
       "    <tr>\n",
       "      <th>0</th>\n",
       "      <td>Investment Increase</td>\n",
       "      <td>45604</td>\n",
       "    </tr>\n",
       "    <tr>\n",
       "      <th>1</th>\n",
       "      <td>Investment Increase</td>\n",
       "      <td>45604</td>\n",
       "    </tr>\n",
       "    <tr>\n",
       "      <th>2</th>\n",
       "      <td>INV</td>\n",
       "      <td>113100</td>\n",
       "    </tr>\n",
       "    <tr>\n",
       "      <th>3</th>\n",
       "      <td>CHECK</td>\n",
       "      <td>113101</td>\n",
       "    </tr>\n",
       "    <tr>\n",
       "      <th>4</th>\n",
       "      <td>Hilfs Loehne</td>\n",
       "      <td>421000</td>\n",
       "    </tr>\n",
       "    <tr>\n",
       "      <th>5</th>\n",
       "      <td>Salaries Wages</td>\n",
       "      <td>430000</td>\n",
       "    </tr>\n",
       "    <tr>\n",
       "      <th>6</th>\n",
       "      <td>Mehrarbeit Gehlter</td>\n",
       "      <td>431000</td>\n",
       "    </tr>\n",
       "    <tr>\n",
       "      <th>7</th>\n",
       "      <td>Kraftfahrzeug Steuer</td>\n",
       "      <td>464000</td>\n",
       "    </tr>\n",
       "    <tr>\n",
       "      <th>8</th>\n",
       "      <td>Basic rent own use</td>\n",
       "      <td>470000</td>\n",
       "    </tr>\n",
       "    <tr>\n",
       "      <th>9</th>\n",
       "      <td>Own use OC flat rate</td>\n",
       "      <td>470000</td>\n",
       "    </tr>\n",
       "    <tr>\n",
       "      <th>10</th>\n",
       "      <td>Basic rent own use</td>\n",
       "      <td>470000</td>\n",
       "    </tr>\n",
       "    <tr>\n",
       "      <th>11</th>\n",
       "      <td>Own use OC flat rate</td>\n",
       "      <td>470000</td>\n",
       "    </tr>\n",
       "    <tr>\n",
       "      <th>12</th>\n",
       "      <td>Basic rent own use</td>\n",
       "      <td>470000</td>\n",
       "    </tr>\n",
       "    <tr>\n",
       "      <th>13</th>\n",
       "      <td>Own use OC flat rate</td>\n",
       "      <td>470000</td>\n",
       "    </tr>\n",
       "    <tr>\n",
       "      <th>14</th>\n",
       "      <td>Basic rent own use</td>\n",
       "      <td>470000</td>\n",
       "    </tr>\n",
       "    <tr>\n",
       "      <th>15</th>\n",
       "      <td>Own use OC flat rate</td>\n",
       "      <td>470000</td>\n",
       "    </tr>\n",
       "    <tr>\n",
       "      <th>16</th>\n",
       "      <td>Basic rent own use</td>\n",
       "      <td>470000</td>\n",
       "    </tr>\n",
       "    <tr>\n",
       "      <th>17</th>\n",
       "      <td>Own use OC flat rate</td>\n",
       "      <td>470000</td>\n",
       "    </tr>\n",
       "    <tr>\n",
       "      <th>18</th>\n",
       "      <td>Basic rent own use</td>\n",
       "      <td>470000</td>\n",
       "    </tr>\n",
       "    <tr>\n",
       "      <th>19</th>\n",
       "      <td>Own use OC flat rate</td>\n",
       "      <td>470000</td>\n",
       "    </tr>\n",
       "  </tbody>\n",
       "</table>\n",
       "</div>"
      ],
      "text/plain": [
       "                    Text     G/L\n",
       "0    Investment Increase   45604\n",
       "1    Investment Increase   45604\n",
       "2                    INV  113100\n",
       "3                  CHECK  113101\n",
       "4           Hilfs Loehne  421000\n",
       "5         Salaries Wages  430000\n",
       "6     Mehrarbeit Gehlter  431000\n",
       "7   Kraftfahrzeug Steuer  464000\n",
       "8     Basic rent own use  470000\n",
       "9   Own use OC flat rate  470000\n",
       "10    Basic rent own use  470000\n",
       "11  Own use OC flat rate  470000\n",
       "12    Basic rent own use  470000\n",
       "13  Own use OC flat rate  470000\n",
       "14    Basic rent own use  470000\n",
       "15  Own use OC flat rate  470000\n",
       "16    Basic rent own use  470000\n",
       "17  Own use OC flat rate  470000\n",
       "18    Basic rent own use  470000\n",
       "19  Own use OC flat rate  470000"
      ]
     },
     "execution_count": 6,
     "metadata": {},
     "output_type": "execute_result"
    }
   ],
   "source": [
    "frame.head(20)"
   ]
  },
  {
   "cell_type": "markdown",
   "metadata": {},
   "source": [
    "# Split of data"
   ]
  },
  {
   "cell_type": "markdown",
   "metadata": {},
   "source": [
    "## Assumptions\n",
    "    Short Data\n",
    "    Text Bigram\n",
    "    Use of IDF applied for tranformation"
   ]
  },
  {
   "cell_type": "markdown",
   "metadata": {},
   "source": [
    "#### Taken few repetitive members of the dataset in train and rest in test"
   ]
  },
  {
   "cell_type": "code",
   "execution_count": 7,
   "metadata": {
    "collapsed": true
   },
   "outputs": [],
   "source": [
    "test_list = [40, 41, 42, 43, 44, 8, 9, 10, 11, 34, 35, 0]"
   ]
  },
  {
   "cell_type": "code",
   "execution_count": 9,
   "metadata": {},
   "outputs": [],
   "source": [
    "train_list = [i not in test_list for i in list(range(frame.shape[0]))]"
   ]
  },
  {
   "cell_type": "code",
   "execution_count": 10,
   "metadata": {
    "collapsed": true
   },
   "outputs": [],
   "source": [
    "test = frame.iloc[test_list]"
   ]
  },
  {
   "cell_type": "code",
   "execution_count": 11,
   "metadata": {
    "collapsed": true
   },
   "outputs": [],
   "source": [
    "train = frame.iloc[train_list]"
   ]
  },
  {
   "cell_type": "code",
   "execution_count": 13,
   "metadata": {},
   "outputs": [
    {
     "data": {
      "text/html": [
       "<div>\n",
       "<table border=\"1\" class=\"dataframe\">\n",
       "  <thead>\n",
       "    <tr style=\"text-align: right;\">\n",
       "      <th></th>\n",
       "      <th>Text</th>\n",
       "      <th>G/L</th>\n",
       "    </tr>\n",
       "  </thead>\n",
       "  <tbody>\n",
       "    <tr>\n",
       "      <th>1</th>\n",
       "      <td>Investment Increase</td>\n",
       "      <td>45604</td>\n",
       "    </tr>\n",
       "    <tr>\n",
       "      <th>2</th>\n",
       "      <td>INV</td>\n",
       "      <td>113100</td>\n",
       "    </tr>\n",
       "    <tr>\n",
       "      <th>3</th>\n",
       "      <td>CHECK</td>\n",
       "      <td>113101</td>\n",
       "    </tr>\n",
       "    <tr>\n",
       "      <th>4</th>\n",
       "      <td>Hilfs Loehne</td>\n",
       "      <td>421000</td>\n",
       "    </tr>\n",
       "    <tr>\n",
       "      <th>5</th>\n",
       "      <td>Salaries Wages</td>\n",
       "      <td>430000</td>\n",
       "    </tr>\n",
       "  </tbody>\n",
       "</table>\n",
       "</div>"
      ],
      "text/plain": [
       "                  Text     G/L\n",
       "1  Investment Increase   45604\n",
       "2                  INV  113100\n",
       "3                CHECK  113101\n",
       "4         Hilfs Loehne  421000\n",
       "5       Salaries Wages  430000"
      ]
     },
     "execution_count": 13,
     "metadata": {},
     "output_type": "execute_result"
    }
   ],
   "source": [
    "## Head View of training data\n",
    "train.head()"
   ]
  },
  {
   "cell_type": "code",
   "execution_count": 14,
   "metadata": {},
   "outputs": [
    {
     "data": {
      "text/html": [
       "<div>\n",
       "<table border=\"1\" class=\"dataframe\">\n",
       "  <thead>\n",
       "    <tr style=\"text-align: right;\">\n",
       "      <th></th>\n",
       "      <th>Text</th>\n",
       "      <th>G/L</th>\n",
       "    </tr>\n",
       "  </thead>\n",
       "  <tbody>\n",
       "    <tr>\n",
       "      <th>40</th>\n",
       "      <td>Basic rent transfer</td>\n",
       "      <td>888900</td>\n",
       "    </tr>\n",
       "    <tr>\n",
       "      <th>41</th>\n",
       "      <td>OC flat rate trsfr own use</td>\n",
       "      <td>888900</td>\n",
       "    </tr>\n",
       "    <tr>\n",
       "      <th>42</th>\n",
       "      <td>Transfer basic rent own use</td>\n",
       "      <td>888900</td>\n",
       "    </tr>\n",
       "    <tr>\n",
       "      <th>43</th>\n",
       "      <td>Basic rent transfer</td>\n",
       "      <td>888900</td>\n",
       "    </tr>\n",
       "    <tr>\n",
       "      <th>44</th>\n",
       "      <td>OC flat rate trsfr own use</td>\n",
       "      <td>888900</td>\n",
       "    </tr>\n",
       "  </tbody>\n",
       "</table>\n",
       "</div>"
      ],
      "text/plain": [
       "                           Text     G/L\n",
       "40          Basic rent transfer  888900\n",
       "41   OC flat rate trsfr own use  888900\n",
       "42  Transfer basic rent own use  888900\n",
       "43          Basic rent transfer  888900\n",
       "44   OC flat rate trsfr own use  888900"
      ]
     },
     "execution_count": 14,
     "metadata": {},
     "output_type": "execute_result"
    }
   ],
   "source": [
    "## Head View of testing data\n",
    "test.head()"
   ]
  },
  {
   "cell_type": "markdown",
   "metadata": {},
   "source": [
    "### Data Transformation\n",
    "    CountVectoriser  and\n",
    "    TFIDF Transformer\n",
    "    Label encoder"
   ]
  },
  {
   "cell_type": "code",
   "execution_count": 21,
   "metadata": {},
   "outputs": [],
   "source": [
    "from sklearn.feature_extraction.text import CountVectorizer\n",
    "from sklearn.feature_extraction.text import TfidfTransformer\n",
    "from sklearn.feature_extraction.text import TfidfVectorizer\n",
    "from sklearn.preprocessing import LabelEncoder"
   ]
  },
  {
   "cell_type": "code",
   "execution_count": 19,
   "metadata": {},
   "outputs": [],
   "source": [
    "## Initializing TFIDF\n",
    "tfidf = TfidfVectorizer(ngram_range=(1,3), use_idf=True)"
   ]
  },
  {
   "cell_type": "code",
   "execution_count": 20,
   "metadata": {
    "collapsed": true
   },
   "outputs": [],
   "source": [
    "## X_train and X_test formation\n",
    "X_train = tfidf.fit_transform(train.Text)\n",
    "X_test = tfidf.transform(test.Text)"
   ]
  },
  {
   "cell_type": "code",
   "execution_count": 22,
   "metadata": {
    "collapsed": true
   },
   "outputs": [],
   "source": [
    "## y_train and y_test formation\n",
    "le = LabelEncoder()\n",
    "y_train = le.fit_transform(train[\"G/L\"])\n",
    "y_test = le.transform(test[\"G/L\"])"
   ]
  },
  {
   "cell_type": "code",
   "execution_count": 25,
   "metadata": {},
   "outputs": [
    {
     "name": "stdout",
     "output_type": "stream",
     "text": [
      "\n",
      "This is our transformed y_train as per current data: [ 0  1  2  3  4  5  6  7  7  7  7  7  7  7  7  8  9 10 11 12 13 14 15 16 17\n",
      " 18 19 20 21 22 22 22 22 23 23 23 23 23 23 23 23 23 23 23 23 23]\n",
      "\n",
      "This is our transformed y_train as per current data: [23 23 23 23 23  7  7  7  7 22 22  0]\n"
     ]
    }
   ],
   "source": [
    "##Glimpse of y_train and y_test\n",
    "print(\"\\nThis is our transformed y_train as per current data:\",y_train) \n",
    "print(\"\\nThis is our transformed y_train as per current data:\",y_test)"
   ]
  },
  {
   "cell_type": "markdown",
   "metadata": {},
   "source": [
    "# Machine Learning Models for Training/Testing\n",
    "        SVC aka Support Vector Classifier\n",
    "        Multinomial NB\n",
    "        Random Forest Classifier\n",
    "        Gaussian NB"
   ]
  },
  {
   "cell_type": "code",
   "execution_count": 42,
   "metadata": {
    "collapsed": true
   },
   "outputs": [],
   "source": [
    "from sklearn.svm import SVC\n",
    "from sklearn.naive_bayes import MultinomialNB\n",
    "from sklearn.ensemble import RandomForestClassifier\n",
    "from sklearn.naive_bayes import GaussianNB"
   ]
  },
  {
   "cell_type": "markdown",
   "metadata": {},
   "source": [
    "### Initiating models "
   ]
  },
  {
   "cell_type": "code",
   "execution_count": 43,
   "metadata": {},
   "outputs": [
    {
     "name": "stdout",
     "output_type": "stream",
     "text": [
      "\n",
      "Initializing models............\n",
      "\n",
      "SVC Initialized............\n",
      "\n",
      "MultinomialNB Initialized............\n",
      "\n",
      "RandomForestClassifier Initialized....\n",
      "\n",
      "GaussianNB Initialized............\n",
      ".....................................\n",
      "\n",
      "Initialization Succesful............\n"
     ]
    }
   ],
   "source": [
    "print(\"\\nInitializing models............\")\n",
    "print(\"\\nSVC Initialized............\")\n",
    "svc= SVC(kernel='linear', probability=True, random_state=7)\n",
    "print(\"\\nMultinomialNB Initialized............\")\n",
    "nb = MultinomialNB()\n",
    "print(\"\\nRandomForestClassifier Initialized....\")\n",
    "rf = RandomForestClassifier(random_state=7)\n",
    "print(\"\\nGaussianNB Initialized............\")\n",
    "gNB = GaussianNB()\n",
    "print(\".....................................\")\n",
    "print(\"\\nInitialization Succesful............\")"
   ]
  },
  {
   "cell_type": "markdown",
   "metadata": {},
   "source": [
    "## Training the models"
   ]
  },
  {
   "cell_type": "code",
   "execution_count": 44,
   "metadata": {},
   "outputs": [
    {
     "name": "stdout",
     "output_type": "stream",
     "text": [
      "\n",
      " Started Training the models............\n",
      "\n",
      " SVC Trained............\n",
      "\n",
      "MultinomialNB Trained............\n",
      "\n",
      "RandomForestClassifier Trained....\n",
      "\n",
      "GaussianNB Trained............\n",
      ".....................................\n",
      "\n",
      "Training is Succesful............\n"
     ]
    }
   ],
   "source": [
    "print(\"\\n Started Training the models............\")\n",
    "print(\"\\n SVC Trained............\")\n",
    "svc.fit(X_train, y_train)\n",
    "print(\"\\nMultinomialNB Trained............\")\n",
    "nb.fit(X_train, y_train)\n",
    "print(\"\\nRandomForestClassifier Trained....\")\n",
    "rf.fit(X_train, y_train)\n",
    "print(\"\\nGaussianNB Trained............\")\n",
    "gNB.fit(X_train.toarray(),y_train)\n",
    "print(\".....................................\")\n",
    "print(\"\\nTraining is Succesful............\")"
   ]
  },
  {
   "cell_type": "markdown",
   "metadata": {},
   "source": [
    "## Prediction with Test Data"
   ]
  },
  {
   "cell_type": "code",
   "execution_count": 45,
   "metadata": {},
   "outputs": [
    {
     "name": "stdout",
     "output_type": "stream",
     "text": [
      "\n",
      " Started Prediction with the models............\n",
      "\n",
      "\n",
      "\n",
      " SVC's Prediction over Test............\n"
     ]
    },
    {
     "data": {
      "text/plain": [
       "array([23, 23, 23, 23, 23,  7,  7,  7,  7, 22, 22,  0])"
      ]
     },
     "execution_count": 45,
     "metadata": {},
     "output_type": "execute_result"
    }
   ],
   "source": [
    "print(\"\\n Started Prediction with the models............\")\n",
    "print(\"\\n\")\n",
    "print(\"\\n SVC's Prediction over Test............\")\n",
    "svc.predict(X_test)"
   ]
  },
  {
   "cell_type": "code",
   "execution_count": 46,
   "metadata": {},
   "outputs": [
    {
     "name": "stdout",
     "output_type": "stream",
     "text": [
      "\n",
      "MultinomialNB's Prediction over Test............\n"
     ]
    },
    {
     "data": {
      "text/plain": [
       "array([23, 23, 23, 23, 23, 23,  7, 23,  7, 22, 22, 23])"
      ]
     },
     "execution_count": 46,
     "metadata": {},
     "output_type": "execute_result"
    }
   ],
   "source": [
    "print(\"\\nMultinomialNB's Prediction over Test............\")\n",
    "nb.predict(X_test)"
   ]
  },
  {
   "cell_type": "code",
   "execution_count": 47,
   "metadata": {},
   "outputs": [
    {
     "name": "stdout",
     "output_type": "stream",
     "text": [
      "\n",
      "RandomForestClassifier Prediction over Test....\n"
     ]
    },
    {
     "data": {
      "text/plain": [
       "array([23, 23, 23, 23, 23,  7,  7,  7,  7, 22, 22,  0])"
      ]
     },
     "execution_count": 47,
     "metadata": {},
     "output_type": "execute_result"
    }
   ],
   "source": [
    "print(\"\\nRandomForestClassifier Prediction over Test....\")\n",
    "rf.predict(X_test)"
   ]
  },
  {
   "cell_type": "code",
   "execution_count": 48,
   "metadata": {},
   "outputs": [
    {
     "name": "stdout",
     "output_type": "stream",
     "text": [
      "\n",
      "GaussianNB Prediction over Test............\n"
     ]
    },
    {
     "data": {
      "text/plain": [
       "array([23, 23, 23, 23, 23,  7,  7,  7,  7, 22, 22,  0])"
      ]
     },
     "execution_count": 48,
     "metadata": {},
     "output_type": "execute_result"
    }
   ],
   "source": [
    "print(\"\\nGaussianNB Prediction over Test............\")\n",
    "gNB.predict(X_test.toarray())"
   ]
  },
  {
   "cell_type": "code",
   "execution_count": 49,
   "metadata": {},
   "outputs": [
    {
     "name": "stdout",
     "output_type": "stream",
     "text": [
      "\n",
      "True value of y_test is:............\n",
      " [23 23 23 23 23  7  7  7  7 22 22  0]\n"
     ]
    }
   ],
   "source": [
    "print(\"\\nTrue value of y_test is:............\\n\",y_test)"
   ]
  },
  {
   "cell_type": "markdown",
   "metadata": {},
   "source": [
    "#### Results can be easily depicted that models are performing pretty well and giving the matching IDs with good accuracy"
   ]
  },
  {
   "cell_type": "markdown",
   "metadata": {},
   "source": [
    "##### Hence Prediction is succesful "
   ]
  },
  {
   "cell_type": "markdown",
   "metadata": {},
   "source": [
    "# Generating the Confidence Score for models\n",
    "##### Confidence = Probability of the Prediction"
   ]
  },
  {
   "cell_type": "code",
   "execution_count": 61,
   "metadata": {},
   "outputs": [
    {
     "name": "stdout",
     "output_type": "stream",
     "text": [
      "\n",
      " Started Prediction with SVC model............\n",
      "\n",
      "\n",
      "\n",
      "Prediction Scores\n"
     ]
    },
    {
     "data": {
      "text/plain": [
       "array([[ 0.03133144,  0.03133249,  0.03133325,  0.03133374,  0.031334  ,\n",
       "         0.03133404,  0.03133391,  0.00168831,  0.03133364,  0.03133327,\n",
       "         0.03133285,  0.03133239,  0.03133195,  0.03133155,  0.03210381,\n",
       "         0.031331  ,  0.03210344,  0.03210343,  0.03133093,  0.03133108,\n",
       "         0.0313313 ,  0.03133157,  0.05154472,  0.28647191],\n",
       "       [ 0.03223537,  0.03224313,  0.03225032,  0.03225684,  0.0322626 ,\n",
       "         0.03226744,  0.03227122,  0.00151734,  0.03227398,  0.03227579,\n",
       "         0.0322767 ,  0.03227681,  0.0322762 ,  0.03227499,  0.03190519,\n",
       "         0.0322711 ,  0.03190065,  0.03189811,  0.03226368,  0.03226154,\n",
       "         0.03226   ,  0.03225931,  0.04973579,  0.2722859 ],\n",
       "       [ 0.03224487,  0.03225265,  0.03225986,  0.0322664 ,  0.03227216,\n",
       "         0.03227702,  0.0322808 ,  0.00148221,  0.03228357,  0.03228538,\n",
       "         0.0322863 ,  0.0322864 ,  0.03228579,  0.03228458,  0.03191438,\n",
       "         0.03228069,  0.03190984,  0.0319073 ,  0.03227326,  0.03227112,\n",
       "         0.03226957,  0.03226889,  0.04917796,  0.27267901],\n",
       "       [ 0.03133144,  0.03133249,  0.03133325,  0.03133374,  0.031334  ,\n",
       "         0.03133404,  0.03133391,  0.00168831,  0.03133364,  0.03133327,\n",
       "         0.03133285,  0.03133239,  0.03133195,  0.03133155,  0.03210381,\n",
       "         0.031331  ,  0.03210344,  0.03210343,  0.03133093,  0.03133108,\n",
       "         0.0313313 ,  0.03133157,  0.05154472,  0.28647191],\n",
       "       [ 0.03223537,  0.03224313,  0.03225032,  0.03225684,  0.0322626 ,\n",
       "         0.03226744,  0.03227122,  0.00151734,  0.03227398,  0.03227579,\n",
       "         0.0322767 ,  0.03227681,  0.0322762 ,  0.03227499,  0.03190519,\n",
       "         0.0322711 ,  0.03190065,  0.03189811,  0.03226368,  0.03226154,\n",
       "         0.03226   ,  0.03225931,  0.04973579,  0.2722859 ],\n",
       "       [ 0.03615926,  0.0361757 ,  0.03618615,  0.0361903 ,  0.03618783,\n",
       "         0.0361784 ,  0.03616165,  0.19857437,  0.0361823 ,  0.03619152,\n",
       "         0.03619852,  0.03620348,  0.03620662,  0.03620817,  0.0313641 ,\n",
       "         0.03620727,  0.03136158,  0.03135926,  0.03619897,  0.0361949 ,\n",
       "         0.03619103,  0.03618793,  0.05390368,  0.00202703],\n",
       "       [ 0.035996  ,  0.03599709,  0.03599771,  0.0359981 ,  0.03599851,\n",
       "         0.03599924,  0.03600061,  0.20261174,  0.03600382,  0.03600389,\n",
       "         0.0360037 ,  0.03600331,  0.03600279,  0.0360022 ,  0.0311852 ,\n",
       "         0.03600114,  0.03118436,  0.03118409,  0.03600019,  0.03600016,\n",
       "         0.0360003 ,  0.03600059,  0.05472223,  0.00110303],\n",
       "       [ 0.03615926,  0.0361757 ,  0.03618615,  0.0361903 ,  0.03618783,\n",
       "         0.0361784 ,  0.03616165,  0.19857437,  0.0361823 ,  0.03619152,\n",
       "         0.03619852,  0.03620348,  0.03620662,  0.03620817,  0.0313641 ,\n",
       "         0.03620727,  0.03136158,  0.03135926,  0.03619897,  0.0361949 ,\n",
       "         0.03619103,  0.03618793,  0.05390368,  0.00202703],\n",
       "       [ 0.035996  ,  0.03599709,  0.03599771,  0.0359981 ,  0.03599851,\n",
       "         0.03599924,  0.03600061,  0.20261174,  0.03600382,  0.03600389,\n",
       "         0.0360037 ,  0.03600331,  0.03600279,  0.0360022 ,  0.0311852 ,\n",
       "         0.03600114,  0.03118436,  0.03118409,  0.03600019,  0.03600016,\n",
       "         0.0360003 ,  0.03600059,  0.05472223,  0.00110303],\n",
       "       [ 0.04292086,  0.04292867,  0.04293542,  0.0429411 ,  0.04294568,\n",
       "         0.04294906,  0.04295112,  0.00096185,  0.04295204,  0.04295198,\n",
       "         0.04295112,  0.04294966,  0.04294777,  0.04294563,  0.03661712,\n",
       "         0.04294163,  0.03661392,  0.03661279,  0.04293769,  0.04293741,\n",
       "         0.04293796,  0.04293941,  0.11508362,  0.00114649],\n",
       "       [ 0.04292086,  0.04292867,  0.04293542,  0.0429411 ,  0.04294568,\n",
       "         0.04294906,  0.04295112,  0.00096185,  0.04295204,  0.04295198,\n",
       "         0.04295112,  0.04294966,  0.04294777,  0.04294563,  0.03661712,\n",
       "         0.04294163,  0.03661392,  0.03661279,  0.04293769,  0.04293741,\n",
       "         0.04293796,  0.04293941,  0.11508362,  0.00114649],\n",
       "       [ 0.02437228,  0.04599617,  0.04600239,  0.04600765,  0.04601191,\n",
       "         0.04601507,  0.04601695,  0.00141482,  0.04601771,  0.04601754,\n",
       "         0.04601666,  0.04601527,  0.04601357,  0.04601174,  0.03907589,\n",
       "         0.04600858,  0.03907353,  0.03907282,  0.04600612,  0.04600624,\n",
       "         0.04600693,  0.04600811,  0.07336454,  0.00144753]])"
      ]
     },
     "execution_count": 61,
     "metadata": {},
     "output_type": "execute_result"
    }
   ],
   "source": [
    "print(\"\\n Started Prediction with SVC model............\")\n",
    "print(\"\\n\")\n",
    "svc_prob_pred = svc.predict_proba(X_test)\n",
    "print(\"\\nPrediction Scores\")\n",
    "svc.predict_proba(X_test)"
   ]
  },
  {
   "cell_type": "code",
   "execution_count": 59,
   "metadata": {},
   "outputs": [
    {
     "name": "stdout",
     "output_type": "stream",
     "text": [
      "\n",
      " SVC's Top 3 Prediction ............\n"
     ]
    },
    {
     "data": {
      "text/plain": [
       "array([[ 7, 23,  0, 17, 16, 14,  1,  2, 18, 19, 20,  3, 21, 15, 13,  4, 12,\n",
       "         5, 11, 10,  6,  9,  8, 22],\n",
       "       [ 7, 23, 17, 16, 14,  0,  1,  2, 19, 18, 20, 21,  3, 15, 13,  4, 12,\n",
       "         5, 11, 10,  6,  9,  8, 22],\n",
       "       [ 7, 23, 17, 16, 14,  0,  1,  2, 19, 18, 20, 21,  3, 15, 13,  4, 12,\n",
       "         5, 11, 10,  6,  9,  8, 22]])"
      ]
     },
     "execution_count": 59,
     "metadata": {},
     "output_type": "execute_result"
    }
   ],
   "source": [
    "print(\"\\n SVC's Top 3 Prediction ............\")\n",
    "svc_prob_pred.argsort()[-3:][::-1]"
   ]
  },
  {
   "cell_type": "code",
   "execution_count": 62,
   "metadata": {},
   "outputs": [
    {
     "name": "stdout",
     "output_type": "stream",
     "text": [
      "\n",
      " Started Prediction with MultinomialNB models............\n",
      "\n",
      "\n",
      "\n",
      "Prediction Scores\n"
     ]
    },
    {
     "data": {
      "text/plain": [
       "array([[ 0.00636203,  0.00647547,  0.00647547,  0.00636203,  0.00636203,\n",
       "         0.00636203,  0.00636203,  0.0714435 ,  0.00647547,  0.00625357,\n",
       "         0.00636233,  0.00636233,  0.00636233,  0.00636203,  0.00610461,\n",
       "         0.00636233,  0.00610461,  0.00610461,  0.00636203,  0.00636203,\n",
       "         0.00636203,  0.00636203,  0.02513227,  0.77036082],\n",
       "       [ 0.01118721,  0.01150506,  0.01150506,  0.01118721,  0.01118721,\n",
       "         0.01118721,  0.01118721,  0.21778201,  0.01150506,  0.01088639,\n",
       "         0.01118804,  0.01118804,  0.01118804,  0.01118721,  0.01047819,\n",
       "         0.01118804,  0.01047819,  0.01047819,  0.01118721,  0.01118721,\n",
       "         0.01118721,  0.01118721,  0.03090574,  0.51785183],\n",
       "       [ 0.00336822,  0.00345444,  0.00345444,  0.00336822,  0.00336822,\n",
       "         0.00336822,  0.00336822,  0.12963802,  0.00345444,  0.00328641,\n",
       "         0.00336845,  0.00336845,  0.00336845,  0.00336822,  0.00317503,\n",
       "         0.00336845,  0.00317503,  0.00317503,  0.00336822,  0.00336822,\n",
       "         0.00336822,  0.00336822,  0.01146189,  0.78856927],\n",
       "       [ 0.00636203,  0.00647547,  0.00647547,  0.00636203,  0.00636203,\n",
       "         0.00636203,  0.00636203,  0.0714435 ,  0.00647547,  0.00625357,\n",
       "         0.00636233,  0.00636233,  0.00636233,  0.00636203,  0.00610461,\n",
       "         0.00636233,  0.00610461,  0.00610461,  0.00636203,  0.00636203,\n",
       "         0.00636203,  0.00636203,  0.02513227,  0.77036082],\n",
       "       [ 0.01118721,  0.01150506,  0.01150506,  0.01118721,  0.01118721,\n",
       "         0.01118721,  0.01118721,  0.21778201,  0.01150506,  0.01088639,\n",
       "         0.01118804,  0.01118804,  0.01118804,  0.01118721,  0.01047819,\n",
       "         0.01118804,  0.01047819,  0.01047819,  0.01118721,  0.01118721,\n",
       "         0.01118721,  0.01118721,  0.03090574,  0.51785183],\n",
       "       [ 0.00401073,  0.00409997,  0.00409997,  0.00401073,  0.00401073,\n",
       "         0.00401073,  0.00401073,  0.28387723,  0.00409997,  0.00392577,\n",
       "         0.00401096,  0.00401096,  0.00401096,  0.00401073,  0.00380967,\n",
       "         0.00401096,  0.00380967,  0.00380967,  0.00401073,  0.00401073,\n",
       "         0.00401073,  0.00401073,  0.0119955 ,  0.62032142],\n",
       "       [ 0.00844874,  0.00866395,  0.00866395,  0.00844874,  0.00844874,\n",
       "         0.00844874,  0.00844874,  0.61873253,  0.00866395,  0.00824449,\n",
       "         0.0084493 ,  0.0084493 ,  0.0084493 ,  0.00844874,  0.00796639,\n",
       "         0.0084493 ,  0.00796639,  0.00796639,  0.00844874,  0.00844874,\n",
       "         0.00844874,  0.00844874,  0.02424004,  0.18060731],\n",
       "       [ 0.00401073,  0.00409997,  0.00409997,  0.00401073,  0.00401073,\n",
       "         0.00401073,  0.00401073,  0.28387723,  0.00409997,  0.00392577,\n",
       "         0.00401096,  0.00401096,  0.00401096,  0.00401073,  0.00380967,\n",
       "         0.00401096,  0.00380967,  0.00380967,  0.00401073,  0.00401073,\n",
       "         0.00401073,  0.00401073,  0.0119955 ,  0.62032142],\n",
       "       [ 0.00844874,  0.00866395,  0.00866395,  0.00844874,  0.00844874,\n",
       "         0.00844874,  0.00844874,  0.61873253,  0.00866395,  0.00824449,\n",
       "         0.0084493 ,  0.0084493 ,  0.0084493 ,  0.00844874,  0.00796639,\n",
       "         0.0084493 ,  0.00796639,  0.00796639,  0.00844874,  0.00844874,\n",
       "         0.00844874,  0.00844874,  0.02424004,  0.18060731],\n",
       "       [ 0.01443307,  0.01475364,  0.01475364,  0.01443307,  0.01443307,\n",
       "         0.01443307,  0.01443307,  0.0608893 ,  0.01475364,  0.01412786,\n",
       "         0.01443391,  0.01443391,  0.01443391,  0.01443307,  0.01371077,\n",
       "         0.01443391,  0.01371077,  0.01371077,  0.01443307,  0.01443307,\n",
       "         0.01443307,  0.01443307,  0.54333294,  0.0941903 ],\n",
       "       [ 0.01443307,  0.01475364,  0.01475364,  0.01443307,  0.01443307,\n",
       "         0.01443307,  0.01443307,  0.0608893 ,  0.01475364,  0.01412786,\n",
       "         0.01443391,  0.01443391,  0.01443391,  0.01443307,  0.01371077,\n",
       "         0.01443391,  0.01371077,  0.01371077,  0.01443307,  0.01443307,\n",
       "         0.01443307,  0.01443307,  0.54333294,  0.0941903 ],\n",
       "       [ 0.05749721,  0.02644642,  0.02644642,  0.0261111 ,  0.0261111 ,\n",
       "         0.0261111 ,  0.0261111 ,  0.14404054,  0.02644642,  0.02578893,\n",
       "         0.02611199,  0.02611199,  0.02611199,  0.0261111 ,  0.0253439 ,\n",
       "         0.02611199,  0.0253439 ,  0.0253439 ,  0.0261111 ,  0.0261111 ,\n",
       "         0.0261111 ,  0.0261111 ,  0.08824114,  0.18961335]])"
      ]
     },
     "execution_count": 62,
     "metadata": {},
     "output_type": "execute_result"
    }
   ],
   "source": [
    "print(\"\\n Started Prediction with MultinomialNB models............\")\n",
    "print(\"\\n\")\n",
    "MNB_prob_pred = nb.predict_proba(X_test)\n",
    "print(\"\\nPrediction Scores\")\n",
    "nb.predict_proba(X_test)"
   ]
  },
  {
   "cell_type": "code",
   "execution_count": 64,
   "metadata": {},
   "outputs": [
    {
     "name": "stdout",
     "output_type": "stream",
     "text": [
      "\n",
      " MNB's Top 3 Prediction ............\n"
     ]
    },
    {
     "data": {
      "text/plain": [
       "array([[17, 16, 14,  9, 13, 20, 18, 19,  6,  5,  4,  3, 21, 10, 12, 15, 11,\n",
       "         8,  2,  1,  0, 22,  7, 23],\n",
       "       [17, 16, 14,  9,  0, 21, 20,  3,  4,  5,  6, 19, 18, 13, 15, 11, 10,\n",
       "        12,  8,  2,  1,  7, 23, 22],\n",
       "       [17, 16, 14,  9,  0, 21, 20,  3,  4,  5,  6, 19, 18, 13, 15, 11, 10,\n",
       "        12,  8,  2,  1,  7, 23, 22]])"
      ]
     },
     "execution_count": 64,
     "metadata": {},
     "output_type": "execute_result"
    }
   ],
   "source": [
    "print(\"\\n MNB's Top 3 Prediction ............\")\n",
    "MNB_prob_pred.argsort()[-3:][::-1]"
   ]
  },
  {
   "cell_type": "code",
   "execution_count": 66,
   "metadata": {
    "scrolled": true
   },
   "outputs": [
    {
     "name": "stdout",
     "output_type": "stream",
     "text": [
      "\n",
      " Started Prediction with RFM model............\n",
      "\n",
      "\n",
      "\n",
      "Prediction Scores\n"
     ]
    },
    {
     "data": {
      "text/plain": [
       "array([[ 0. ,  0. ,  0. ,  0. ,  0. ,  0. ,  0. ,  0. ,  0. ,  0. ,  0. ,\n",
       "         0. ,  0. ,  0. ,  0. ,  0. ,  0. ,  0. ,  0. ,  0. ,  0. ,  0. ,\n",
       "         0. ,  1. ],\n",
       "       [ 0. ,  0. ,  0. ,  0. ,  0. ,  0. ,  0. ,  0. ,  0. ,  0. ,  0. ,\n",
       "         0. ,  0. ,  0. ,  0. ,  0. ,  0. ,  0. ,  0. ,  0. ,  0. ,  0. ,\n",
       "         0. ,  1. ],\n",
       "       [ 0. ,  0. ,  0. ,  0. ,  0. ,  0. ,  0. ,  0. ,  0. ,  0. ,  0. ,\n",
       "         0. ,  0. ,  0. ,  0. ,  0. ,  0. ,  0. ,  0. ,  0. ,  0. ,  0. ,\n",
       "         0. ,  1. ],\n",
       "       [ 0. ,  0. ,  0. ,  0. ,  0. ,  0. ,  0. ,  0. ,  0. ,  0. ,  0. ,\n",
       "         0. ,  0. ,  0. ,  0. ,  0. ,  0. ,  0. ,  0. ,  0. ,  0. ,  0. ,\n",
       "         0. ,  1. ],\n",
       "       [ 0. ,  0. ,  0. ,  0. ,  0. ,  0. ,  0. ,  0. ,  0. ,  0. ,  0. ,\n",
       "         0. ,  0. ,  0. ,  0. ,  0. ,  0. ,  0. ,  0. ,  0. ,  0. ,  0. ,\n",
       "         0. ,  1. ],\n",
       "       [ 0. ,  0. ,  0. ,  0. ,  0. ,  0. ,  0. ,  1. ,  0. ,  0. ,  0. ,\n",
       "         0. ,  0. ,  0. ,  0. ,  0. ,  0. ,  0. ,  0. ,  0. ,  0. ,  0. ,\n",
       "         0. ,  0. ],\n",
       "       [ 0. ,  0. ,  0. ,  0. ,  0. ,  0. ,  0. ,  1. ,  0. ,  0. ,  0. ,\n",
       "         0. ,  0. ,  0. ,  0. ,  0. ,  0. ,  0. ,  0. ,  0. ,  0. ,  0. ,\n",
       "         0. ,  0. ],\n",
       "       [ 0. ,  0. ,  0. ,  0. ,  0. ,  0. ,  0. ,  1. ,  0. ,  0. ,  0. ,\n",
       "         0. ,  0. ,  0. ,  0. ,  0. ,  0. ,  0. ,  0. ,  0. ,  0. ,  0. ,\n",
       "         0. ,  0. ],\n",
       "       [ 0. ,  0. ,  0. ,  0. ,  0. ,  0. ,  0. ,  1. ,  0. ,  0. ,  0. ,\n",
       "         0. ,  0. ,  0. ,  0. ,  0. ,  0. ,  0. ,  0. ,  0. ,  0. ,  0. ,\n",
       "         0. ,  0. ],\n",
       "       [ 0. ,  0. ,  0. ,  0. ,  0. ,  0. ,  0. ,  0. ,  0. ,  0. ,  0. ,\n",
       "         0. ,  0. ,  0. ,  0. ,  0. ,  0. ,  0. ,  0. ,  0. ,  0. ,  0. ,\n",
       "         1. ,  0. ],\n",
       "       [ 0. ,  0. ,  0. ,  0. ,  0. ,  0. ,  0. ,  0. ,  0. ,  0. ,  0. ,\n",
       "         0. ,  0. ,  0. ,  0. ,  0. ,  0. ,  0. ,  0. ,  0. ,  0. ,  0. ,\n",
       "         1. ,  0. ],\n",
       "       [ 0.7,  0. ,  0. ,  0. ,  0. ,  0. ,  0. ,  0. ,  0.1,  0. ,  0. ,\n",
       "         0. ,  0. ,  0. ,  0. ,  0.1,  0. ,  0. ,  0. ,  0. ,  0. ,  0.1,\n",
       "         0. ,  0. ]])"
      ]
     },
     "execution_count": 66,
     "metadata": {},
     "output_type": "execute_result"
    }
   ],
   "source": [
    "print(\"\\n Started Prediction with RFM model............\")\n",
    "print(\"\\n\")\n",
    "RFM_prob_pred = rf.predict_proba(X_test)\n",
    "print(\"\\nPrediction Scores\")\n",
    "rf.predict_proba(X_test)"
   ]
  },
  {
   "cell_type": "markdown",
   "metadata": {},
   "source": [
    "## Here you will be able to see the Greedy model performance"
   ]
  },
  {
   "cell_type": "code",
   "execution_count": 67,
   "metadata": {},
   "outputs": [
    {
     "name": "stdout",
     "output_type": "stream",
     "text": [
      "\n",
      " RFM's Top 3 Prediction ............\n"
     ]
    },
    {
     "data": {
      "text/plain": [
       "array([[11, 20, 19, 18, 17, 16, 14, 13, 12, 22, 23,  9,  7,  6,  5,  4,  3,\n",
       "         2,  1, 10,  8, 15, 21,  0],\n",
       "       [ 0, 21, 20, 19, 18, 17, 16, 15, 14, 13, 12, 11, 10,  9,  8,  7,  6,\n",
       "         5,  4,  3,  2,  1, 23, 22],\n",
       "       [ 0, 21, 20, 19, 18, 17, 16, 15, 14, 13, 12, 11, 10,  9,  8,  7,  6,\n",
       "         5,  4,  3,  2,  1, 23, 22]])"
      ]
     },
     "execution_count": 67,
     "metadata": {},
     "output_type": "execute_result"
    }
   ],
   "source": [
    "print(\"\\n RFM's Top 3 Prediction ............\")\n",
    "RFM_prob_pred.argsort()[-3:][::-1]"
   ]
  },
  {
   "cell_type": "code",
   "execution_count": 69,
   "metadata": {},
   "outputs": [
    {
     "name": "stdout",
     "output_type": "stream",
     "text": [
      "\n",
      " Started Prediction with GNB model............\n",
      "\n",
      "\n",
      "\n",
      "Prediction Scores\n"
     ]
    },
    {
     "data": {
      "text/plain": [
       "array([[  0.00000000e+00,   0.00000000e+00,   0.00000000e+00,\n",
       "          0.00000000e+00,   0.00000000e+00,   0.00000000e+00,\n",
       "          0.00000000e+00,   0.00000000e+00,   0.00000000e+00,\n",
       "          0.00000000e+00,   0.00000000e+00,   0.00000000e+00,\n",
       "          0.00000000e+00,   0.00000000e+00,   0.00000000e+00,\n",
       "          0.00000000e+00,   0.00000000e+00,   0.00000000e+00,\n",
       "          0.00000000e+00,   0.00000000e+00,   0.00000000e+00,\n",
       "          0.00000000e+00,   0.00000000e+00,   1.00000000e+00],\n",
       "       [  0.00000000e+00,   0.00000000e+00,   0.00000000e+00,\n",
       "          0.00000000e+00,   0.00000000e+00,   0.00000000e+00,\n",
       "          0.00000000e+00,   0.00000000e+00,   0.00000000e+00,\n",
       "          0.00000000e+00,   0.00000000e+00,   0.00000000e+00,\n",
       "          0.00000000e+00,   0.00000000e+00,   0.00000000e+00,\n",
       "          0.00000000e+00,   0.00000000e+00,   0.00000000e+00,\n",
       "          0.00000000e+00,   0.00000000e+00,   0.00000000e+00,\n",
       "          0.00000000e+00,   0.00000000e+00,   1.00000000e+00],\n",
       "       [  0.00000000e+00,   0.00000000e+00,   0.00000000e+00,\n",
       "          0.00000000e+00,   0.00000000e+00,   0.00000000e+00,\n",
       "          0.00000000e+00,   0.00000000e+00,   0.00000000e+00,\n",
       "          0.00000000e+00,   0.00000000e+00,   0.00000000e+00,\n",
       "          0.00000000e+00,   0.00000000e+00,   0.00000000e+00,\n",
       "          0.00000000e+00,   0.00000000e+00,   0.00000000e+00,\n",
       "          0.00000000e+00,   0.00000000e+00,   0.00000000e+00,\n",
       "          0.00000000e+00,   0.00000000e+00,   1.00000000e+00],\n",
       "       [  0.00000000e+00,   0.00000000e+00,   0.00000000e+00,\n",
       "          0.00000000e+00,   0.00000000e+00,   0.00000000e+00,\n",
       "          0.00000000e+00,   0.00000000e+00,   0.00000000e+00,\n",
       "          0.00000000e+00,   0.00000000e+00,   0.00000000e+00,\n",
       "          0.00000000e+00,   0.00000000e+00,   0.00000000e+00,\n",
       "          0.00000000e+00,   0.00000000e+00,   0.00000000e+00,\n",
       "          0.00000000e+00,   0.00000000e+00,   0.00000000e+00,\n",
       "          0.00000000e+00,   0.00000000e+00,   1.00000000e+00],\n",
       "       [  0.00000000e+00,   0.00000000e+00,   0.00000000e+00,\n",
       "          0.00000000e+00,   0.00000000e+00,   0.00000000e+00,\n",
       "          0.00000000e+00,   0.00000000e+00,   0.00000000e+00,\n",
       "          0.00000000e+00,   0.00000000e+00,   0.00000000e+00,\n",
       "          0.00000000e+00,   0.00000000e+00,   0.00000000e+00,\n",
       "          0.00000000e+00,   0.00000000e+00,   0.00000000e+00,\n",
       "          0.00000000e+00,   0.00000000e+00,   0.00000000e+00,\n",
       "          0.00000000e+00,   0.00000000e+00,   1.00000000e+00],\n",
       "       [  0.00000000e+00,   0.00000000e+00,   0.00000000e+00,\n",
       "          0.00000000e+00,   0.00000000e+00,   0.00000000e+00,\n",
       "          0.00000000e+00,   1.00000000e+00,   0.00000000e+00,\n",
       "          0.00000000e+00,   0.00000000e+00,   0.00000000e+00,\n",
       "          0.00000000e+00,   0.00000000e+00,   0.00000000e+00,\n",
       "          0.00000000e+00,   0.00000000e+00,   0.00000000e+00,\n",
       "          0.00000000e+00,   0.00000000e+00,   0.00000000e+00,\n",
       "          0.00000000e+00,   0.00000000e+00,   2.21116096e-37],\n",
       "       [  0.00000000e+00,   0.00000000e+00,   0.00000000e+00,\n",
       "          0.00000000e+00,   0.00000000e+00,   0.00000000e+00,\n",
       "          0.00000000e+00,   1.00000000e+00,   0.00000000e+00,\n",
       "          0.00000000e+00,   0.00000000e+00,   0.00000000e+00,\n",
       "          0.00000000e+00,   0.00000000e+00,   0.00000000e+00,\n",
       "          0.00000000e+00,   0.00000000e+00,   0.00000000e+00,\n",
       "          0.00000000e+00,   0.00000000e+00,   0.00000000e+00,\n",
       "          0.00000000e+00,   0.00000000e+00,   0.00000000e+00],\n",
       "       [  0.00000000e+00,   0.00000000e+00,   0.00000000e+00,\n",
       "          0.00000000e+00,   0.00000000e+00,   0.00000000e+00,\n",
       "          0.00000000e+00,   1.00000000e+00,   0.00000000e+00,\n",
       "          0.00000000e+00,   0.00000000e+00,   0.00000000e+00,\n",
       "          0.00000000e+00,   0.00000000e+00,   0.00000000e+00,\n",
       "          0.00000000e+00,   0.00000000e+00,   0.00000000e+00,\n",
       "          0.00000000e+00,   0.00000000e+00,   0.00000000e+00,\n",
       "          0.00000000e+00,   0.00000000e+00,   2.21116096e-37],\n",
       "       [  0.00000000e+00,   0.00000000e+00,   0.00000000e+00,\n",
       "          0.00000000e+00,   0.00000000e+00,   0.00000000e+00,\n",
       "          0.00000000e+00,   1.00000000e+00,   0.00000000e+00,\n",
       "          0.00000000e+00,   0.00000000e+00,   0.00000000e+00,\n",
       "          0.00000000e+00,   0.00000000e+00,   0.00000000e+00,\n",
       "          0.00000000e+00,   0.00000000e+00,   0.00000000e+00,\n",
       "          0.00000000e+00,   0.00000000e+00,   0.00000000e+00,\n",
       "          0.00000000e+00,   0.00000000e+00,   0.00000000e+00],\n",
       "       [  0.00000000e+00,   0.00000000e+00,   0.00000000e+00,\n",
       "          0.00000000e+00,   0.00000000e+00,   0.00000000e+00,\n",
       "          0.00000000e+00,   0.00000000e+00,   0.00000000e+00,\n",
       "          0.00000000e+00,   0.00000000e+00,   0.00000000e+00,\n",
       "          0.00000000e+00,   0.00000000e+00,   0.00000000e+00,\n",
       "          0.00000000e+00,   0.00000000e+00,   0.00000000e+00,\n",
       "          0.00000000e+00,   0.00000000e+00,   0.00000000e+00,\n",
       "          0.00000000e+00,   1.00000000e+00,   0.00000000e+00],\n",
       "       [  0.00000000e+00,   0.00000000e+00,   0.00000000e+00,\n",
       "          0.00000000e+00,   0.00000000e+00,   0.00000000e+00,\n",
       "          0.00000000e+00,   0.00000000e+00,   0.00000000e+00,\n",
       "          0.00000000e+00,   0.00000000e+00,   0.00000000e+00,\n",
       "          0.00000000e+00,   0.00000000e+00,   0.00000000e+00,\n",
       "          0.00000000e+00,   0.00000000e+00,   0.00000000e+00,\n",
       "          0.00000000e+00,   0.00000000e+00,   0.00000000e+00,\n",
       "          0.00000000e+00,   1.00000000e+00,   0.00000000e+00],\n",
       "       [  1.00000000e+00,   0.00000000e+00,   0.00000000e+00,\n",
       "          0.00000000e+00,   0.00000000e+00,   0.00000000e+00,\n",
       "          0.00000000e+00,   0.00000000e+00,   0.00000000e+00,\n",
       "          0.00000000e+00,   0.00000000e+00,   0.00000000e+00,\n",
       "          0.00000000e+00,   0.00000000e+00,   0.00000000e+00,\n",
       "          0.00000000e+00,   0.00000000e+00,   0.00000000e+00,\n",
       "          0.00000000e+00,   0.00000000e+00,   0.00000000e+00,\n",
       "          0.00000000e+00,   0.00000000e+00,   0.00000000e+00]])"
      ]
     },
     "execution_count": 69,
     "metadata": {},
     "output_type": "execute_result"
    }
   ],
   "source": [
    "print(\"\\n Started Prediction with GNB model............\")\n",
    "print(\"\\n\")\n",
    "GNB_prob_pred = gNB.predict_proba(X_test.toarray())\n",
    "print(\"\\nPrediction Scores\")\n",
    "gNB.predict_proba(X_test.toarray())"
   ]
  },
  {
   "cell_type": "code",
   "execution_count": 70,
   "metadata": {},
   "outputs": [
    {
     "name": "stdout",
     "output_type": "stream",
     "text": [
      "\n",
      " GNB's Top 3 Prediction ............\n"
     ]
    },
    {
     "data": {
      "text/plain": [
       "array([[11, 21, 20, 19, 18, 17, 16, 15, 14, 13, 12, 23, 10,  9,  8,  7,  6,\n",
       "         5,  4,  3,  2,  1, 22,  0],\n",
       "       [ 0, 21, 20, 19, 18, 17, 16, 15, 14, 13, 12, 11, 10,  9,  8,  7,  6,\n",
       "         5,  4,  3,  2,  1, 23, 22],\n",
       "       [ 0, 21, 20, 19, 18, 17, 16, 15, 14, 13, 12, 11, 10,  9,  8,  7,  6,\n",
       "         5,  4,  3,  2,  1, 23, 22]])"
      ]
     },
     "execution_count": 70,
     "metadata": {},
     "output_type": "execute_result"
    }
   ],
   "source": [
    "print(\"\\n GNB's Top 3 Prediction ............\")\n",
    "GNB_prob_pred.argsort()[-3:][::-1]"
   ]
  },
  {
   "cell_type": "code",
   "execution_count": null,
   "metadata": {
    "collapsed": true
   },
   "outputs": [],
   "source": [
    "from sklearn.metrics import confusion_matrix\n",
    "confusion_matrix(y_train, GNB_prob_pred)"
   ]
  }
 ],
 "metadata": {
  "kernelspec": {
   "display_name": "Python 3",
   "language": "python",
   "name": "python3"
  },
  "language_info": {
   "codemirror_mode": {
    "name": "ipython",
    "version": 3
   },
   "file_extension": ".py",
   "mimetype": "text/x-python",
   "name": "python",
   "nbconvert_exporter": "python",
   "pygments_lexer": "ipython3",
   "version": "3.6.3"
  }
 },
 "nbformat": 4,
 "nbformat_minor": 1
}
